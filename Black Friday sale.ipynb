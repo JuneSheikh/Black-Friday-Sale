{
 "cells": [
  {
   "cell_type": "code",
   "execution_count": 132,
   "id": "72e15502",
   "metadata": {},
   "outputs": [],
   "source": [
    "# Installed important Libraries \n",
    "\n",
    "import pandas as pd\n",
    "import numpy as np\n",
    "import seaborn as sns\n",
    "import matplotlib.pyplot as plt\n",
    "%matplotlib inline"
   ]
  },
  {
   "cell_type": "code",
   "execution_count": 133,
   "id": "9a0756b8",
   "metadata": {},
   "outputs": [
    {
     "name": "stdout",
     "output_type": "stream",
     "text": [
      "/Users/junaidsheikh/Desktop/Python/Black Friday Sales\n"
     ]
    }
   ],
   "source": [
    "import io\n",
    "%cd '/Users/junaidsheikh/Desktop/Python/Black Friday Sales'"
   ]
  },
  {
   "cell_type": "code",
   "execution_count": 134,
   "id": "185b7c95",
   "metadata": {},
   "outputs": [],
   "source": [
    "traindf=pd.read_csv('train.csv')"
   ]
  },
  {
   "cell_type": "code",
   "execution_count": 135,
   "id": "9b48fc06",
   "metadata": {},
   "outputs": [],
   "source": [
    "testdf=pd.read_csv('test.csv')"
   ]
  },
  {
   "cell_type": "code",
   "execution_count": 136,
   "id": "37d1fbd9",
   "metadata": {},
   "outputs": [
    {
     "name": "stdout",
     "output_type": "stream",
     "text": [
      "<class 'pandas.core.frame.DataFrame'>\n",
      "RangeIndex: 550068 entries, 0 to 550067\n",
      "Data columns (total 12 columns):\n",
      " #   Column                      Non-Null Count   Dtype  \n",
      "---  ------                      --------------   -----  \n",
      " 0   User_ID                     550068 non-null  int64  \n",
      " 1   Product_ID                  550068 non-null  object \n",
      " 2   Gender                      550068 non-null  object \n",
      " 3   Age                         550068 non-null  object \n",
      " 4   Occupation                  550068 non-null  int64  \n",
      " 5   City_Category               550068 non-null  object \n",
      " 6   Stay_In_Current_City_Years  550068 non-null  object \n",
      " 7   Marital_Status              550068 non-null  int64  \n",
      " 8   Product_Category_1          550068 non-null  int64  \n",
      " 9   Product_Category_2          376430 non-null  float64\n",
      " 10  Product_Category_3          166821 non-null  float64\n",
      " 11  Purchase                    550068 non-null  int64  \n",
      "dtypes: float64(2), int64(5), object(5)\n",
      "memory usage: 50.4+ MB\n"
     ]
    }
   ],
   "source": [
    "# Understanding the number of observation and data type prensent in the Dataframe\n",
    "traindf.info()"
   ]
  },
  {
   "cell_type": "code",
   "execution_count": 137,
   "id": "b3d12e7e",
   "metadata": {},
   "outputs": [
    {
     "name": "stdout",
     "output_type": "stream",
     "text": [
      "<class 'pandas.core.frame.DataFrame'>\n",
      "RangeIndex: 233599 entries, 0 to 233598\n",
      "Data columns (total 11 columns):\n",
      " #   Column                      Non-Null Count   Dtype  \n",
      "---  ------                      --------------   -----  \n",
      " 0   User_ID                     233599 non-null  int64  \n",
      " 1   Product_ID                  233599 non-null  object \n",
      " 2   Gender                      233599 non-null  object \n",
      " 3   Age                         233599 non-null  object \n",
      " 4   Occupation                  233599 non-null  int64  \n",
      " 5   City_Category               233599 non-null  object \n",
      " 6   Stay_In_Current_City_Years  233599 non-null  object \n",
      " 7   Marital_Status              233599 non-null  int64  \n",
      " 8   Product_Category_1          233599 non-null  int64  \n",
      " 9   Product_Category_2          161255 non-null  float64\n",
      " 10  Product_Category_3          71037 non-null   float64\n",
      "dtypes: float64(2), int64(4), object(5)\n",
      "memory usage: 19.6+ MB\n"
     ]
    }
   ],
   "source": [
    "testdf.info()"
   ]
  },
  {
   "cell_type": "code",
   "execution_count": 138,
   "id": "8bdc63b4",
   "metadata": {},
   "outputs": [
    {
     "data": {
      "text/html": [
       "<div>\n",
       "<style scoped>\n",
       "    .dataframe tbody tr th:only-of-type {\n",
       "        vertical-align: middle;\n",
       "    }\n",
       "\n",
       "    .dataframe tbody tr th {\n",
       "        vertical-align: top;\n",
       "    }\n",
       "\n",
       "    .dataframe thead th {\n",
       "        text-align: right;\n",
       "    }\n",
       "</style>\n",
       "<table border=\"1\" class=\"dataframe\">\n",
       "  <thead>\n",
       "    <tr style=\"text-align: right;\">\n",
       "      <th></th>\n",
       "      <th>User_ID</th>\n",
       "      <th>Product_ID</th>\n",
       "      <th>Gender</th>\n",
       "      <th>Age</th>\n",
       "      <th>Occupation</th>\n",
       "      <th>City_Category</th>\n",
       "      <th>Stay_In_Current_City_Years</th>\n",
       "      <th>Marital_Status</th>\n",
       "      <th>Product_Category_1</th>\n",
       "      <th>Product_Category_2</th>\n",
       "      <th>Product_Category_3</th>\n",
       "      <th>Purchase</th>\n",
       "    </tr>\n",
       "  </thead>\n",
       "  <tbody>\n",
       "    <tr>\n",
       "      <th>0</th>\n",
       "      <td>1000001</td>\n",
       "      <td>P00069042</td>\n",
       "      <td>F</td>\n",
       "      <td>0-17</td>\n",
       "      <td>10</td>\n",
       "      <td>A</td>\n",
       "      <td>2</td>\n",
       "      <td>0</td>\n",
       "      <td>3</td>\n",
       "      <td>NaN</td>\n",
       "      <td>NaN</td>\n",
       "      <td>8370</td>\n",
       "    </tr>\n",
       "    <tr>\n",
       "      <th>1</th>\n",
       "      <td>1000001</td>\n",
       "      <td>P00248942</td>\n",
       "      <td>F</td>\n",
       "      <td>0-17</td>\n",
       "      <td>10</td>\n",
       "      <td>A</td>\n",
       "      <td>2</td>\n",
       "      <td>0</td>\n",
       "      <td>1</td>\n",
       "      <td>6.0</td>\n",
       "      <td>14.0</td>\n",
       "      <td>15200</td>\n",
       "    </tr>\n",
       "    <tr>\n",
       "      <th>2</th>\n",
       "      <td>1000001</td>\n",
       "      <td>P00087842</td>\n",
       "      <td>F</td>\n",
       "      <td>0-17</td>\n",
       "      <td>10</td>\n",
       "      <td>A</td>\n",
       "      <td>2</td>\n",
       "      <td>0</td>\n",
       "      <td>12</td>\n",
       "      <td>NaN</td>\n",
       "      <td>NaN</td>\n",
       "      <td>1422</td>\n",
       "    </tr>\n",
       "    <tr>\n",
       "      <th>3</th>\n",
       "      <td>1000001</td>\n",
       "      <td>P00085442</td>\n",
       "      <td>F</td>\n",
       "      <td>0-17</td>\n",
       "      <td>10</td>\n",
       "      <td>A</td>\n",
       "      <td>2</td>\n",
       "      <td>0</td>\n",
       "      <td>12</td>\n",
       "      <td>14.0</td>\n",
       "      <td>NaN</td>\n",
       "      <td>1057</td>\n",
       "    </tr>\n",
       "    <tr>\n",
       "      <th>4</th>\n",
       "      <td>1000002</td>\n",
       "      <td>P00285442</td>\n",
       "      <td>M</td>\n",
       "      <td>55+</td>\n",
       "      <td>16</td>\n",
       "      <td>C</td>\n",
       "      <td>4+</td>\n",
       "      <td>0</td>\n",
       "      <td>8</td>\n",
       "      <td>NaN</td>\n",
       "      <td>NaN</td>\n",
       "      <td>7969</td>\n",
       "    </tr>\n",
       "  </tbody>\n",
       "</table>\n",
       "</div>"
      ],
      "text/plain": [
       "   User_ID Product_ID Gender   Age  Occupation City_Category  \\\n",
       "0  1000001  P00069042      F  0-17          10             A   \n",
       "1  1000001  P00248942      F  0-17          10             A   \n",
       "2  1000001  P00087842      F  0-17          10             A   \n",
       "3  1000001  P00085442      F  0-17          10             A   \n",
       "4  1000002  P00285442      M   55+          16             C   \n",
       "\n",
       "  Stay_In_Current_City_Years  Marital_Status  Product_Category_1  \\\n",
       "0                          2               0                   3   \n",
       "1                          2               0                   1   \n",
       "2                          2               0                  12   \n",
       "3                          2               0                  12   \n",
       "4                         4+               0                   8   \n",
       "\n",
       "   Product_Category_2  Product_Category_3  Purchase  \n",
       "0                 NaN                 NaN      8370  \n",
       "1                 6.0                14.0     15200  \n",
       "2                 NaN                 NaN      1422  \n",
       "3                14.0                 NaN      1057  \n",
       "4                 NaN                 NaN      7969  "
      ]
     },
     "execution_count": 138,
     "metadata": {},
     "output_type": "execute_result"
    }
   ],
   "source": [
    "# top 5 observations \n",
    "traindf.head()"
   ]
  },
  {
   "cell_type": "code",
   "execution_count": 139,
   "id": "dd5877ad",
   "metadata": {},
   "outputs": [],
   "source": [
    "# Extracting numeric and object column\n",
    "\n",
    "objectcols=traindf.select_dtypes(include='object')\n",
    "numericcols=traindf.select_dtypes(include=np.number)"
   ]
  },
  {
   "cell_type": "code",
   "execution_count": 140,
   "id": "dab543d6",
   "metadata": {},
   "outputs": [
    {
     "name": "stdout",
     "output_type": "stream",
     "text": [
      "<class 'pandas.core.frame.DataFrame'>\n",
      "RangeIndex: 550068 entries, 0 to 550067\n",
      "Data columns (total 5 columns):\n",
      " #   Column                      Non-Null Count   Dtype \n",
      "---  ------                      --------------   ----- \n",
      " 0   Product_ID                  550068 non-null  object\n",
      " 1   Gender                      550068 non-null  object\n",
      " 2   Age                         550068 non-null  object\n",
      " 3   City_Category               550068 non-null  object\n",
      " 4   Stay_In_Current_City_Years  550068 non-null  object\n",
      "dtypes: object(5)\n",
      "memory usage: 21.0+ MB\n"
     ]
    }
   ],
   "source": [
    "objectcols.info()"
   ]
  },
  {
   "cell_type": "code",
   "execution_count": 141,
   "id": "6e0a2eba",
   "metadata": {},
   "outputs": [
    {
     "name": "stdout",
     "output_type": "stream",
     "text": [
      "<class 'pandas.core.frame.DataFrame'>\n",
      "RangeIndex: 550068 entries, 0 to 550067\n",
      "Data columns (total 7 columns):\n",
      " #   Column              Non-Null Count   Dtype  \n",
      "---  ------              --------------   -----  \n",
      " 0   User_ID             550068 non-null  int64  \n",
      " 1   Occupation          550068 non-null  int64  \n",
      " 2   Marital_Status      550068 non-null  int64  \n",
      " 3   Product_Category_1  550068 non-null  int64  \n",
      " 4   Product_Category_2  376430 non-null  float64\n",
      " 5   Product_Category_3  166821 non-null  float64\n",
      " 6   Purchase            550068 non-null  int64  \n",
      "dtypes: float64(2), int64(5)\n",
      "memory usage: 29.4 MB\n"
     ]
    }
   ],
   "source": [
    "numericcols.info()"
   ]
  },
  {
   "cell_type": "code",
   "execution_count": 142,
   "id": "e25978eb",
   "metadata": {},
   "outputs": [],
   "source": [
    "#droping User_ID as it not required for exploratory data analysis\n",
    "numericcols=numericcols.drop('User_ID',axis=1)"
   ]
  },
  {
   "cell_type": "code",
   "execution_count": 143,
   "id": "1d219f4d",
   "metadata": {},
   "outputs": [
    {
     "data": {
      "text/html": [
       "<div>\n",
       "<style scoped>\n",
       "    .dataframe tbody tr th:only-of-type {\n",
       "        vertical-align: middle;\n",
       "    }\n",
       "\n",
       "    .dataframe tbody tr th {\n",
       "        vertical-align: top;\n",
       "    }\n",
       "\n",
       "    .dataframe thead th {\n",
       "        text-align: right;\n",
       "    }\n",
       "</style>\n",
       "<table border=\"1\" class=\"dataframe\">\n",
       "  <thead>\n",
       "    <tr style=\"text-align: right;\">\n",
       "      <th></th>\n",
       "      <th>Occupation</th>\n",
       "      <th>Marital_Status</th>\n",
       "      <th>Product_Category_1</th>\n",
       "      <th>Product_Category_2</th>\n",
       "      <th>Product_Category_3</th>\n",
       "      <th>Purchase</th>\n",
       "    </tr>\n",
       "  </thead>\n",
       "  <tbody>\n",
       "    <tr>\n",
       "      <th>count</th>\n",
       "      <td>550068.000000</td>\n",
       "      <td>550068.000000</td>\n",
       "      <td>550068.000000</td>\n",
       "      <td>376430.000000</td>\n",
       "      <td>166821.000000</td>\n",
       "      <td>550068.000000</td>\n",
       "    </tr>\n",
       "    <tr>\n",
       "      <th>mean</th>\n",
       "      <td>8.076707</td>\n",
       "      <td>0.409653</td>\n",
       "      <td>5.404270</td>\n",
       "      <td>9.842329</td>\n",
       "      <td>12.668243</td>\n",
       "      <td>9263.968713</td>\n",
       "    </tr>\n",
       "    <tr>\n",
       "      <th>std</th>\n",
       "      <td>6.522660</td>\n",
       "      <td>0.491770</td>\n",
       "      <td>3.936211</td>\n",
       "      <td>5.086590</td>\n",
       "      <td>4.125338</td>\n",
       "      <td>5023.065394</td>\n",
       "    </tr>\n",
       "    <tr>\n",
       "      <th>min</th>\n",
       "      <td>0.000000</td>\n",
       "      <td>0.000000</td>\n",
       "      <td>1.000000</td>\n",
       "      <td>2.000000</td>\n",
       "      <td>3.000000</td>\n",
       "      <td>12.000000</td>\n",
       "    </tr>\n",
       "    <tr>\n",
       "      <th>25%</th>\n",
       "      <td>2.000000</td>\n",
       "      <td>0.000000</td>\n",
       "      <td>1.000000</td>\n",
       "      <td>5.000000</td>\n",
       "      <td>9.000000</td>\n",
       "      <td>5823.000000</td>\n",
       "    </tr>\n",
       "    <tr>\n",
       "      <th>50%</th>\n",
       "      <td>7.000000</td>\n",
       "      <td>0.000000</td>\n",
       "      <td>5.000000</td>\n",
       "      <td>9.000000</td>\n",
       "      <td>14.000000</td>\n",
       "      <td>8047.000000</td>\n",
       "    </tr>\n",
       "    <tr>\n",
       "      <th>75%</th>\n",
       "      <td>14.000000</td>\n",
       "      <td>1.000000</td>\n",
       "      <td>8.000000</td>\n",
       "      <td>15.000000</td>\n",
       "      <td>16.000000</td>\n",
       "      <td>12054.000000</td>\n",
       "    </tr>\n",
       "    <tr>\n",
       "      <th>max</th>\n",
       "      <td>20.000000</td>\n",
       "      <td>1.000000</td>\n",
       "      <td>20.000000</td>\n",
       "      <td>18.000000</td>\n",
       "      <td>18.000000</td>\n",
       "      <td>23961.000000</td>\n",
       "    </tr>\n",
       "  </tbody>\n",
       "</table>\n",
       "</div>"
      ],
      "text/plain": [
       "          Occupation  Marital_Status  Product_Category_1  Product_Category_2  \\\n",
       "count  550068.000000   550068.000000       550068.000000       376430.000000   \n",
       "mean        8.076707        0.409653            5.404270            9.842329   \n",
       "std         6.522660        0.491770            3.936211            5.086590   \n",
       "min         0.000000        0.000000            1.000000            2.000000   \n",
       "25%         2.000000        0.000000            1.000000            5.000000   \n",
       "50%         7.000000        0.000000            5.000000            9.000000   \n",
       "75%        14.000000        1.000000            8.000000           15.000000   \n",
       "max        20.000000        1.000000           20.000000           18.000000   \n",
       "\n",
       "       Product_Category_3       Purchase  \n",
       "count       166821.000000  550068.000000  \n",
       "mean            12.668243    9263.968713  \n",
       "std              4.125338    5023.065394  \n",
       "min              3.000000      12.000000  \n",
       "25%              9.000000    5823.000000  \n",
       "50%             14.000000    8047.000000  \n",
       "75%             16.000000   12054.000000  \n",
       "max             18.000000   23961.000000  "
      ]
     },
     "execution_count": 143,
     "metadata": {},
     "output_type": "execute_result"
    }
   ],
   "source": [
    "#describe helps to understand if there is any deviation between mean and median\n",
    "numericcols.describe()"
   ]
  },
  {
   "cell_type": "code",
   "execution_count": 144,
   "id": "12d0392a",
   "metadata": {},
   "outputs": [
    {
     "name": "stdout",
     "output_type": "stream",
     "text": [
      "skew:  Occupation            0.400140\n",
      "Marital_Status        0.367437\n",
      "Product_Category_1    1.025735\n",
      "Product_Category_2   -0.162758\n",
      "Product_Category_3   -0.765446\n",
      "Purchase              0.600140\n",
      "dtype: float64\n"
     ]
    }
   ],
   "source": [
    "print('skew: ',numericcols.skew())"
   ]
  },
  {
   "cell_type": "code",
   "execution_count": 145,
   "id": "9dbcb371",
   "metadata": {},
   "outputs": [
    {
     "data": {
      "text/plain": [
       "(array([ 36844.,  57919., 132275., 104918.,  76784.,  30178.,  64558.,\n",
       "         12695.,  31539.,   2358.]),\n",
       " array([1.20000e+01, 2.40690e+03, 4.80180e+03, 7.19670e+03, 9.59160e+03,\n",
       "        1.19865e+04, 1.43814e+04, 1.67763e+04, 1.91712e+04, 2.15661e+04,\n",
       "        2.39610e+04]),\n",
       " <BarContainer object of 10 artists>)"
      ]
     },
     "execution_count": 145,
     "metadata": {},
     "output_type": "execute_result"
    },
    {
     "data": {
      "image/png": "[encoded data removed]",
      "text/plain": [
       "<Figure size 640x480 with 1 Axes>"
      ]
     },
     "metadata": {},
     "output_type": "display_data"
    }
   ],
   "source": [
    "#Peak of the graph is on the left as its positivelily skewed\n",
    "plt.hist(numericcols.Purchase)"
   ]
  },
  {
   "cell_type": "code",
   "execution_count": 146,
   "id": "3cd5c0ca",
   "metadata": {},
   "outputs": [
    {
     "data": {
      "text/plain": [
       "<Figure size 700x700 with 0 Axes>"
      ]
     },
     "metadata": {},
     "output_type": "display_data"
    },
    {
     "data": {
      "image/png": "[encoded data removed]",
      "text/plain": [
       "<Figure size 2000x2000 with 12 Axes>"
      ]
     },
     "metadata": {},
     "output_type": "display_data"
    }
   ],
   "source": [
    "plt.figure(figsize=(7,7))\n",
    "numericcols.plot(kind='box', subplots=True, layout=(6,2),sharey=False, \n",
    "          sharex=False, figsize=(20, 20),vert=False);"
   ]
  },
  {
   "cell_type": "code",
   "execution_count": 147,
   "id": "2719e69e",
   "metadata": {},
   "outputs": [
    {
     "data": {
      "image/png": "[encoded data removed]",
      "text/plain": [
       "<Figure size 640x480 with 3 Axes>"
      ]
     },
     "metadata": {},
     "output_type": "display_data"
    }
   ],
   "source": [
    "#percentge of demographics involved in shopping \n",
    "fig, (ax1,ax2,ax3) = plt.subplots(1, 3)\n",
    "ax1.pie(objectcols.Gender.value_counts(),autopct=\"%.1f%%\",\n",
    "        labels=['M','F'])\n",
    "ax1.set_title(\"gender\")\n",
    "ax2.pie(numericcols.Marital_Status.value_counts(),autopct=\"%.1f%%\",\n",
    "       labels=[\"1\",\"0\"])\n",
    "ax2.set_title(\"maritalstatus\")\n",
    "ax3.pie(objectcols.City_Category.value_counts(),autopct=\"%.1f%%\",\n",
    "       labels=[\"A\",\"B\",\"C\"])\n",
    "ax3.set_title(\"City_Category\")\n",
    "plt.show()"
   ]
  },
  {
   "cell_type": "code",
   "execution_count": 148,
   "id": "506df185",
   "metadata": {},
   "outputs": [
    {
     "data": {
      "text/plain": [
       "Gender\n",
       "F    8734.565765\n",
       "M    9437.526040\n",
       "Name: Purchase, dtype: float64"
      ]
     },
     "execution_count": 148,
     "metadata": {},
     "output_type": "execute_result"
    }
   ],
   "source": [
    "# Data Aggregations\n",
    "traindf.Purchase.groupby(traindf.Gender).mean()"
   ]
  },
  {
   "cell_type": "code",
   "execution_count": 149,
   "id": "36c729ab",
   "metadata": {},
   "outputs": [
    {
     "data": {
      "text/plain": [
       "Marital_Status\n",
       "0    9265.907619\n",
       "1    9261.174574\n",
       "Name: Purchase, dtype: float64"
      ]
     },
     "execution_count": 149,
     "metadata": {},
     "output_type": "execute_result"
    }
   ],
   "source": [
    "traindf.Purchase.groupby(traindf.Marital_Status).mean()"
   ]
  },
  {
   "cell_type": "code",
   "execution_count": 150,
   "id": "9e32130c",
   "metadata": {},
   "outputs": [
    {
     "data": {
      "text/plain": [
       "Age\n",
       "0-17     8933.464640\n",
       "18-25    9169.663606\n",
       "26-35    9252.690633\n",
       "36-45    9331.350695\n",
       "46-50    9208.625697\n",
       "51-55    9534.808031\n",
       "55+      9336.280459\n",
       "Name: Purchase, dtype: float64"
      ]
     },
     "execution_count": 150,
     "metadata": {},
     "output_type": "execute_result"
    }
   ],
   "source": [
    "traindf.Purchase.groupby(traindf.Age).mean()"
   ]
  },
  {
   "cell_type": "code",
   "execution_count": 151,
   "id": "82bb93b2",
   "metadata": {},
   "outputs": [
    {
     "data": {
      "text/plain": [
       "City_Category\n",
       "A    8911.939216\n",
       "B    9151.300563\n",
       "C    9719.920993\n",
       "Name: Purchase, dtype: float64"
      ]
     },
     "execution_count": 151,
     "metadata": {},
     "output_type": "execute_result"
    }
   ],
   "source": [
    "traindf.Purchase.groupby(traindf.City_Category).mean()"
   ]
  },
  {
   "cell_type": "code",
   "execution_count": 152,
   "id": "ab40bd00",
   "metadata": {},
   "outputs": [],
   "source": [
    "# adding an addition variable to combine test and train data frame\n",
    "testdf['Purchase']='test'"
   ]
  },
  {
   "cell_type": "code",
   "execution_count": 153,
   "id": "8db55cd8",
   "metadata": {},
   "outputs": [],
   "source": [
    "combinedf=pd.concat([traindf,testdf],axis=0)"
   ]
  },
  {
   "cell_type": "code",
   "execution_count": 154,
   "id": "3262d8f6",
   "metadata": {},
   "outputs": [
    {
     "name": "stdout",
     "output_type": "stream",
     "text": [
      "<class 'pandas.core.frame.DataFrame'>\n",
      "Int64Index: 783667 entries, 0 to 233598\n",
      "Data columns (total 12 columns):\n",
      " #   Column                      Non-Null Count   Dtype  \n",
      "---  ------                      --------------   -----  \n",
      " 0   User_ID                     783667 non-null  int64  \n",
      " 1   Product_ID                  783667 non-null  object \n",
      " 2   Gender                      783667 non-null  object \n",
      " 3   Age                         783667 non-null  object \n",
      " 4   Occupation                  783667 non-null  int64  \n",
      " 5   City_Category               783667 non-null  object \n",
      " 6   Stay_In_Current_City_Years  783667 non-null  object \n",
      " 7   Marital_Status              783667 non-null  int64  \n",
      " 8   Product_Category_1          783667 non-null  int64  \n",
      " 9   Product_Category_2          537685 non-null  float64\n",
      " 10  Product_Category_3          237858 non-null  float64\n",
      " 11  Purchase                    783667 non-null  object \n",
      "dtypes: float64(2), int64(4), object(6)\n",
      "memory usage: 77.7+ MB\n"
     ]
    }
   ],
   "source": [
    "combinedf.info()"
   ]
  },
  {
   "cell_type": "code",
   "execution_count": 155,
   "id": "9c0081c8",
   "metadata": {},
   "outputs": [
    {
     "data": {
      "text/plain": [
       "Product_Category_3            545809\n",
       "Product_Category_2            245982\n",
       "User_ID                            0\n",
       "Product_ID                         0\n",
       "Gender                             0\n",
       "Age                                0\n",
       "Occupation                         0\n",
       "City_Category                      0\n",
       "Stay_In_Current_City_Years         0\n",
       "Marital_Status                     0\n",
       "Product_Category_1                 0\n",
       "Purchase                           0\n",
       "dtype: int64"
      ]
     },
     "execution_count": 155,
     "metadata": {},
     "output_type": "execute_result"
    }
   ],
   "source": [
    "combinedf.isnull().sum().sort_values(ascending=False)"
   ]
  },
  {
   "cell_type": "code",
   "execution_count": 156,
   "id": "b57195a5",
   "metadata": {},
   "outputs": [
    {
     "data": {
      "text/plain": [
       "Product_Category_3            0.696481\n",
       "Product_Category_2            0.313886\n",
       "User_ID                       0.000000\n",
       "Product_ID                    0.000000\n",
       "Gender                        0.000000\n",
       "Age                           0.000000\n",
       "Occupation                    0.000000\n",
       "City_Category                 0.000000\n",
       "Stay_In_Current_City_Years    0.000000\n",
       "Marital_Status                0.000000\n",
       "Product_Category_1            0.000000\n",
       "Purchase                      0.000000\n",
       "dtype: float64"
      ]
     },
     "execution_count": 156,
     "metadata": {},
     "output_type": "execute_result"
    }
   ],
   "source": [
    "combinedf.isnull().sum().sort_values(ascending=False)/combinedf.shape[0]"
   ]
  },
  {
   "cell_type": "code",
   "execution_count": 157,
   "id": "a256c53a",
   "metadata": {},
   "outputs": [],
   "source": [
    "# Missing value imputation\n",
    "combinedf.Product_Category_2=combinedf.Product_Category_2.fillna(combinedf.Product_Category_2.median())"
   ]
  },
  {
   "cell_type": "code",
   "execution_count": 158,
   "id": "c6997a11",
   "metadata": {},
   "outputs": [],
   "source": [
    "combinedf.Product_Category_3=combinedf.Product_Category_3.fillna(combinedf.Product_Category_3.median())"
   ]
  },
  {
   "cell_type": "code",
   "execution_count": 159,
   "id": "87fb7351",
   "metadata": {},
   "outputs": [
    {
     "name": "stdout",
     "output_type": "stream",
     "text": [
      "<class 'pandas.core.frame.DataFrame'>\n",
      "Int64Index: 783667 entries, 0 to 233598\n",
      "Data columns (total 12 columns):\n",
      " #   Column                      Non-Null Count   Dtype  \n",
      "---  ------                      --------------   -----  \n",
      " 0   User_ID                     783667 non-null  int64  \n",
      " 1   Product_ID                  783667 non-null  object \n",
      " 2   Gender                      783667 non-null  object \n",
      " 3   Age                         783667 non-null  object \n",
      " 4   Occupation                  783667 non-null  int64  \n",
      " 5   City_Category               783667 non-null  object \n",
      " 6   Stay_In_Current_City_Years  783667 non-null  object \n",
      " 7   Marital_Status              783667 non-null  int64  \n",
      " 8   Product_Category_1          783667 non-null  int64  \n",
      " 9   Product_Category_2          783667 non-null  float64\n",
      " 10  Product_Category_3          783667 non-null  float64\n",
      " 11  Purchase                    783667 non-null  object \n",
      "dtypes: float64(2), int64(4), object(6)\n",
      "memory usage: 77.7+ MB\n"
     ]
    }
   ],
   "source": [
    "combinedf.info()"
   ]
  },
  {
   "cell_type": "code",
   "execution_count": 160,
   "id": "539073c7",
   "metadata": {},
   "outputs": [],
   "source": [
    "objectcols_df=combinedf.select_dtypes(include='object')\n",
    "numericcols_df=combinedf.select_dtypes(include=np.number)"
   ]
  },
  {
   "cell_type": "code",
   "execution_count": 161,
   "id": "8e6fb751",
   "metadata": {},
   "outputs": [
    {
     "name": "stdout",
     "output_type": "stream",
     "text": [
      "<class 'pandas.core.frame.DataFrame'>\n",
      "Int64Index: 783667 entries, 0 to 233598\n",
      "Data columns (total 6 columns):\n",
      " #   Column                      Non-Null Count   Dtype \n",
      "---  ------                      --------------   ----- \n",
      " 0   Product_ID                  783667 non-null  object\n",
      " 1   Gender                      783667 non-null  object\n",
      " 2   Age                         783667 non-null  object\n",
      " 3   City_Category               783667 non-null  object\n",
      " 4   Stay_In_Current_City_Years  783667 non-null  object\n",
      " 5   Purchase                    783667 non-null  object\n",
      "dtypes: object(6)\n",
      "memory usage: 41.9+ MB\n"
     ]
    }
   ],
   "source": [
    "objectcols_df.info()"
   ]
  },
  {
   "cell_type": "code",
   "execution_count": 162,
   "id": "126bc674",
   "metadata": {},
   "outputs": [],
   "source": [
    "objectcols_df=objectcols_df.drop('Product_ID',axis=1)"
   ]
  },
  {
   "cell_type": "code",
   "execution_count": 163,
   "id": "23143d57",
   "metadata": {},
   "outputs": [
    {
     "name": "stdout",
     "output_type": "stream",
     "text": [
      "<class 'pandas.core.frame.DataFrame'>\n",
      "Int64Index: 783667 entries, 0 to 233598\n",
      "Data columns (total 6 columns):\n",
      " #   Column              Non-Null Count   Dtype  \n",
      "---  ------              --------------   -----  \n",
      " 0   User_ID             783667 non-null  int64  \n",
      " 1   Occupation          783667 non-null  int64  \n",
      " 2   Marital_Status      783667 non-null  int64  \n",
      " 3   Product_Category_1  783667 non-null  int64  \n",
      " 4   Product_Category_2  783667 non-null  float64\n",
      " 5   Product_Category_3  783667 non-null  float64\n",
      "dtypes: float64(2), int64(4)\n",
      "memory usage: 41.9 MB\n"
     ]
    }
   ],
   "source": [
    "numericcols_df.info()"
   ]
  },
  {
   "cell_type": "code",
   "execution_count": 164,
   "id": "d66db25c",
   "metadata": {},
   "outputs": [],
   "source": [
    "numericcols_df=numericcols_df.drop('User_ID',axis=1)"
   ]
  },
  {
   "cell_type": "code",
   "execution_count": 165,
   "id": "eb503efa",
   "metadata": {},
   "outputs": [],
   "source": [
    "objectcols_df['Marital_Status']=numericcols_df.Marital_Status"
   ]
  },
  {
   "cell_type": "code",
   "execution_count": 166,
   "id": "ef5fb58e",
   "metadata": {},
   "outputs": [],
   "source": [
    "numericcols_df=numericcols_df.drop('Marital_Status',axis=1)"
   ]
  },
  {
   "cell_type": "code",
   "execution_count": 167,
   "id": "5fedd67b",
   "metadata": {},
   "outputs": [],
   "source": [
    "#Scaling the data to get similar units\n",
    "from sklearn.preprocessing import StandardScaler"
   ]
  },
  {
   "cell_type": "code",
   "execution_count": 168,
   "id": "a51430a5",
   "metadata": {},
   "outputs": [],
   "source": [
    "standard=StandardScaler()"
   ]
  },
  {
   "cell_type": "code",
   "execution_count": 169,
   "id": "ace9d81e",
   "metadata": {},
   "outputs": [],
   "source": [
    "numericcols_standard=standard.fit_transform(numericcols_df)"
   ]
  },
  {
   "cell_type": "code",
   "execution_count": 170,
   "id": "766e0ceb",
   "metadata": {},
   "outputs": [],
   "source": [
    "numericcols_standard=pd.DataFrame(numericcols_standard,columns=numericcols_df.columns)"
   ]
  },
  {
   "cell_type": "code",
   "execution_count": 171,
   "id": "4971c025",
   "metadata": {
    "scrolled": true
   },
   "outputs": [
    {
     "data": {
      "text/html": [
       "<div>\n",
       "<style scoped>\n",
       "    .dataframe tbody tr th:only-of-type {\n",
       "        vertical-align: middle;\n",
       "    }\n",
       "\n",
       "    .dataframe tbody tr th {\n",
       "        vertical-align: top;\n",
       "    }\n",
       "\n",
       "    .dataframe thead th {\n",
       "        text-align: right;\n",
       "    }\n",
       "</style>\n",
       "<table border=\"1\" class=\"dataframe\">\n",
       "  <thead>\n",
       "    <tr style=\"text-align: right;\">\n",
       "      <th></th>\n",
       "      <th>Occupation</th>\n",
       "      <th>Product_Category_1</th>\n",
       "      <th>Product_Category_2</th>\n",
       "      <th>Product_Category_3</th>\n",
       "    </tr>\n",
       "  </thead>\n",
       "  <tbody>\n",
       "    <tr>\n",
       "      <th>0</th>\n",
       "      <td>0.294486</td>\n",
       "      <td>-0.610134</td>\n",
       "      <td>-0.136865</td>\n",
       "      <td>0.171679</td>\n",
       "    </tr>\n",
       "    <tr>\n",
       "      <th>1</th>\n",
       "      <td>0.294486</td>\n",
       "      <td>-1.125843</td>\n",
       "      <td>-0.845486</td>\n",
       "      <td>0.171679</td>\n",
       "    </tr>\n",
       "    <tr>\n",
       "      <th>2</th>\n",
       "      <td>0.294486</td>\n",
       "      <td>1.710556</td>\n",
       "      <td>-0.136865</td>\n",
       "      <td>0.171679</td>\n",
       "    </tr>\n",
       "    <tr>\n",
       "      <th>3</th>\n",
       "      <td>0.294486</td>\n",
       "      <td>1.710556</td>\n",
       "      <td>1.044171</td>\n",
       "      <td>0.171679</td>\n",
       "    </tr>\n",
       "    <tr>\n",
       "      <th>4</th>\n",
       "      <td>1.214421</td>\n",
       "      <td>0.679138</td>\n",
       "      <td>-0.136865</td>\n",
       "      <td>0.171679</td>\n",
       "    </tr>\n",
       "  </tbody>\n",
       "</table>\n",
       "</div>"
      ],
      "text/plain": [
       "   Occupation  Product_Category_1  Product_Category_2  Product_Category_3\n",
       "0    0.294486           -0.610134           -0.136865            0.171679\n",
       "1    0.294486           -1.125843           -0.845486            0.171679\n",
       "2    0.294486            1.710556           -0.136865            0.171679\n",
       "3    0.294486            1.710556            1.044171            0.171679\n",
       "4    1.214421            0.679138           -0.136865            0.171679"
      ]
     },
     "execution_count": 171,
     "metadata": {},
     "output_type": "execute_result"
    }
   ],
   "source": [
    "numericcols_standard.head()"
   ]
  },
  {
   "cell_type": "code",
   "execution_count": 41,
   "id": "f844dc7f",
   "metadata": {},
   "outputs": [],
   "source": [
    "from sklearn.preprocessing import LabelEncoder"
   ]
  },
  {
   "cell_type": "code",
   "execution_count": 42,
   "id": "0c90a4f2",
   "metadata": {},
   "outputs": [],
   "source": [
    "le=LabelEncoder()"
   ]
  },
  {
   "cell_type": "code",
   "execution_count": 43,
   "id": "45e9cdc9",
   "metadata": {},
   "outputs": [],
   "source": [
    "objectcols_label=objectcols_df.drop('Purchase',axis=1).apply(le.fit_transform)"
   ]
  },
  {
   "cell_type": "code",
   "execution_count": 44,
   "id": "e09864ca",
   "metadata": {
    "scrolled": true
   },
   "outputs": [
    {
     "data": {
      "text/html": [
       "<div>\n",
       "<style scoped>\n",
       "    .dataframe tbody tr th:only-of-type {\n",
       "        vertical-align: middle;\n",
       "    }\n",
       "\n",
       "    .dataframe tbody tr th {\n",
       "        vertical-align: top;\n",
       "    }\n",
       "\n",
       "    .dataframe thead th {\n",
       "        text-align: right;\n",
       "    }\n",
       "</style>\n",
       "<table border=\"1\" class=\"dataframe\">\n",
       "  <thead>\n",
       "    <tr style=\"text-align: right;\">\n",
       "      <th></th>\n",
       "      <th>Gender</th>\n",
       "      <th>Age</th>\n",
       "      <th>City_Category</th>\n",
       "      <th>Stay_In_Current_City_Years</th>\n",
       "      <th>Marital_Status</th>\n",
       "    </tr>\n",
       "  </thead>\n",
       "  <tbody>\n",
       "    <tr>\n",
       "      <th>0</th>\n",
       "      <td>0</td>\n",
       "      <td>0</td>\n",
       "      <td>0</td>\n",
       "      <td>2</td>\n",
       "      <td>0</td>\n",
       "    </tr>\n",
       "    <tr>\n",
       "      <th>1</th>\n",
       "      <td>0</td>\n",
       "      <td>0</td>\n",
       "      <td>0</td>\n",
       "      <td>2</td>\n",
       "      <td>0</td>\n",
       "    </tr>\n",
       "    <tr>\n",
       "      <th>2</th>\n",
       "      <td>0</td>\n",
       "      <td>0</td>\n",
       "      <td>0</td>\n",
       "      <td>2</td>\n",
       "      <td>0</td>\n",
       "    </tr>\n",
       "    <tr>\n",
       "      <th>3</th>\n",
       "      <td>0</td>\n",
       "      <td>0</td>\n",
       "      <td>0</td>\n",
       "      <td>2</td>\n",
       "      <td>0</td>\n",
       "    </tr>\n",
       "    <tr>\n",
       "      <th>4</th>\n",
       "      <td>1</td>\n",
       "      <td>6</td>\n",
       "      <td>2</td>\n",
       "      <td>4</td>\n",
       "      <td>0</td>\n",
       "    </tr>\n",
       "  </tbody>\n",
       "</table>\n",
       "</div>"
      ],
      "text/plain": [
       "   Gender  Age  City_Category  Stay_In_Current_City_Years  Marital_Status\n",
       "0       0    0              0                           2               0\n",
       "1       0    0              0                           2               0\n",
       "2       0    0              0                           2               0\n",
       "3       0    0              0                           2               0\n",
       "4       1    6              2                           4               0"
      ]
     },
     "execution_count": 44,
     "metadata": {},
     "output_type": "execute_result"
    }
   ],
   "source": [
    "objectcols_label.head()"
   ]
  },
  {
   "cell_type": "code",
   "execution_count": 45,
   "id": "fe5a8606",
   "metadata": {},
   "outputs": [],
   "source": [
    "objectcols_clean=objectcols_label.reset_index()"
   ]
  },
  {
   "cell_type": "code",
   "execution_count": 46,
   "id": "861bd74a",
   "metadata": {},
   "outputs": [],
   "source": [
    "numericcols_clean=numericcols_standard.reset_index()"
   ]
  },
  {
   "cell_type": "code",
   "execution_count": 47,
   "id": "7d4e3b59",
   "metadata": {},
   "outputs": [],
   "source": [
    "combine_clean=pd.concat([numericcols_clean,objectcols_clean],axis=1)"
   ]
  },
  {
   "cell_type": "code",
   "execution_count": 48,
   "id": "e726d971",
   "metadata": {},
   "outputs": [],
   "source": [
    "objectcols_clean=objectcols_df.reset_index()"
   ]
  },
  {
   "cell_type": "code",
   "execution_count": 49,
   "id": "6c24c019",
   "metadata": {},
   "outputs": [],
   "source": [
    "combine_clean['Purchase']=objectcols_clean.Purchase"
   ]
  },
  {
   "cell_type": "code",
   "execution_count": 50,
   "id": "9abc658b",
   "metadata": {},
   "outputs": [],
   "source": [
    "#Extracting train and test dataset\n",
    "train_clean=combine_clean[combine_clean.Purchase!='test']\n",
    "test_clean=combine_clean[combine_clean.Purchase=='test']"
   ]
  },
  {
   "cell_type": "code",
   "execution_count": 51,
   "id": "27b8e096",
   "metadata": {},
   "outputs": [
    {
     "name": "stdout",
     "output_type": "stream",
     "text": [
      "<class 'pandas.core.frame.DataFrame'>\n",
      "Int64Index: 233599 entries, 550068 to 783666\n",
      "Data columns (total 12 columns):\n",
      " #   Column                      Non-Null Count   Dtype  \n",
      "---  ------                      --------------   -----  \n",
      " 0   index                       233599 non-null  int64  \n",
      " 1   Occupation                  233599 non-null  float64\n",
      " 2   Product_Category_1          233599 non-null  float64\n",
      " 3   Product_Category_2          233599 non-null  float64\n",
      " 4   Product_Category_3          233599 non-null  float64\n",
      " 5   index                       233599 non-null  int64  \n",
      " 6   Gender                      233599 non-null  int64  \n",
      " 7   Age                         233599 non-null  int64  \n",
      " 8   City_Category               233599 non-null  int64  \n",
      " 9   Stay_In_Current_City_Years  233599 non-null  int64  \n",
      " 10  Marital_Status              233599 non-null  int64  \n",
      " 11  Purchase                    233599 non-null  object \n",
      "dtypes: float64(4), int64(7), object(1)\n",
      "memory usage: 23.2+ MB\n"
     ]
    }
   ],
   "source": [
    "test_clean.info()"
   ]
  },
  {
   "cell_type": "code",
   "execution_count": 52,
   "id": "96da710c",
   "metadata": {},
   "outputs": [],
   "source": [
    "test_clean=test_clean.drop(['Purchase','index'],axis=1)"
   ]
  },
  {
   "cell_type": "code",
   "execution_count": 53,
   "id": "318c276c",
   "metadata": {},
   "outputs": [],
   "source": [
    "train_clean=train_clean.drop('index',axis=1)"
   ]
  },
  {
   "cell_type": "code",
   "execution_count": 54,
   "id": "3a05df8f",
   "metadata": {},
   "outputs": [],
   "source": [
    "train_clean.Purchase=train_clean.Purchase.astype('int64')"
   ]
  },
  {
   "cell_type": "code",
   "execution_count": 55,
   "id": "22f59c44",
   "metadata": {},
   "outputs": [],
   "source": [
    "X=train_clean.drop('Purchase',axis=1)\n",
    "y=train_clean.Purchase"
   ]
  },
  {
   "cell_type": "code",
   "execution_count": 56,
   "id": "8b083c40",
   "metadata": {},
   "outputs": [
    {
     "data": {
      "text/plain": [
       "<AxesSubplot: >"
      ]
     },
     "execution_count": 56,
     "metadata": {},
     "output_type": "execute_result"
    },
    {
     "data": {
      "image/png": "[encoded data removed]",
      "text/plain": [
       "<Figure size 640x480 with 1 Axes>"
      ]
     },
     "metadata": {},
     "output_type": "display_data"
    }
   ],
   "source": [
    "y.plot(kind='box',vert=False)"
   ]
  },
  {
   "cell_type": "code",
   "execution_count": 57,
   "id": "c39c625d",
   "metadata": {},
   "outputs": [
    {
     "data": {
      "text/plain": [
       "<AxesSubplot: >"
      ]
     },
     "execution_count": 57,
     "metadata": {},
     "output_type": "execute_result"
    },
    {
     "data": {
      "image/png": "[encoded data removed]",
      "text/plain": [
       "<Figure size 640x480 with 1 Axes>"
      ]
     },
     "metadata": {},
     "output_type": "display_data"
    }
   ],
   "source": [
    "np.log(y).plot(kind='box',vert=False)"
   ]
  },
  {
   "cell_type": "code",
   "execution_count": 58,
   "id": "b2d2876c",
   "metadata": {},
   "outputs": [
    {
     "data": {
      "text/plain": [
       "<AxesSubplot: >"
      ]
     },
     "execution_count": 58,
     "metadata": {},
     "output_type": "execute_result"
    },
    {
     "data": {
      "image/png": "[encoded data removed]",
      "text/plain": [
       "<Figure size 640x480 with 1 Axes>"
      ]
     },
     "metadata": {},
     "output_type": "display_data"
    }
   ],
   "source": [
    "np.sqrt(y).plot(kind='box',vert=False)"
   ]
  },
  {
   "cell_type": "markdown",
   "id": "ae534b7b",
   "metadata": {},
   "source": [
    "# Linear Regression"
   ]
  },
  {
   "cell_type": "code",
   "execution_count": 59,
   "id": "77dea362",
   "metadata": {},
   "outputs": [],
   "source": [
    "from sklearn.linear_model import LinearRegression"
   ]
  },
  {
   "cell_type": "code",
   "execution_count": 60,
   "id": "b01ee04c",
   "metadata": {},
   "outputs": [],
   "source": [
    "reg=LinearRegression()"
   ]
  },
  {
   "cell_type": "code",
   "execution_count": 84,
   "id": "50d25c6f",
   "metadata": {},
   "outputs": [],
   "source": [
    "regmodel=reg.fit(X,np.log(y))"
   ]
  },
  {
   "cell_type": "code",
   "execution_count": 87,
   "id": "f27d5f77",
   "metadata": {},
   "outputs": [
    {
     "data": {
      "text/plain": [
       "0.19224450943633498"
      ]
     },
     "execution_count": 87,
     "metadata": {},
     "output_type": "execute_result"
    }
   ],
   "source": [
    "regmodel.score(X,np.log(y))"
   ]
  },
  {
   "cell_type": "markdown",
   "id": "5881b6ed",
   "metadata": {},
   "source": [
    "# Decision tree Regressor"
   ]
  },
  {
   "cell_type": "code",
   "execution_count": 63,
   "id": "0d835b0e",
   "metadata": {},
   "outputs": [],
   "source": [
    "from sklearn.tree import DecisionTreeRegressor"
   ]
  },
  {
   "cell_type": "code",
   "execution_count": 105,
   "id": "cbac77f3",
   "metadata": {},
   "outputs": [],
   "source": [
    "tree=DecisionTreeRegressor(max_depth=8)"
   ]
  },
  {
   "cell_type": "code",
   "execution_count": 106,
   "id": "cad9e0e8",
   "metadata": {},
   "outputs": [],
   "source": [
    "treemodel=tree.fit(X,y)"
   ]
  },
  {
   "cell_type": "code",
   "execution_count": 107,
   "id": "d5820a8f",
   "metadata": {},
   "outputs": [
    {
     "data": {
      "text/plain": [
       "0.6523861502976589"
      ]
     },
     "execution_count": 107,
     "metadata": {},
     "output_type": "execute_result"
    }
   ],
   "source": [
    "treemodel.score(X,y)"
   ]
  },
  {
   "cell_type": "code",
   "execution_count": 108,
   "id": "0765be87",
   "metadata": {},
   "outputs": [],
   "source": [
    "from sklearn.model_selection import cross_val_score"
   ]
  },
  {
   "cell_type": "code",
   "execution_count": 109,
   "id": "f56b4716",
   "metadata": {},
   "outputs": [
    {
     "data": {
      "text/plain": [
       "array([0.64120943, 0.64259314, 0.64299043, 0.64407002, 0.66913017])"
      ]
     },
     "execution_count": 109,
     "metadata": {},
     "output_type": "execute_result"
    }
   ],
   "source": [
    "cross_val_score(tree,X,y)"
   ]
  },
  {
   "cell_type": "code",
   "execution_count": 110,
   "id": "95c6e721",
   "metadata": {},
   "outputs": [
    {
     "data": {
      "text/plain": [
       "0.647998638"
      ]
     },
     "execution_count": 110,
     "metadata": {},
     "output_type": "execute_result"
    }
   ],
   "source": [
    "np.mean([0.64120943, 0.64259314, 0.64299043, 0.64407002, 0.66913017])"
   ]
  },
  {
   "cell_type": "markdown",
   "id": "9e68d0cd",
   "metadata": {},
   "source": [
    "# Random Forest Regressor"
   ]
  },
  {
   "cell_type": "code",
   "execution_count": 70,
   "id": "353a1a97",
   "metadata": {},
   "outputs": [],
   "source": [
    "from sklearn.ensemble import RandomForestRegressor"
   ]
  },
  {
   "cell_type": "code",
   "execution_count": 124,
   "id": "9f9c0806",
   "metadata": {},
   "outputs": [],
   "source": [
    "rb=RandomForestRegressor(n_estimators=60,max_depth=8)"
   ]
  },
  {
   "cell_type": "code",
   "execution_count": 125,
   "id": "0141a74a",
   "metadata": {},
   "outputs": [],
   "source": [
    "rbmodel=rb.fit(X,y)"
   ]
  },
  {
   "cell_type": "code",
   "execution_count": 126,
   "id": "0e023732",
   "metadata": {},
   "outputs": [
    {
     "data": {
      "text/plain": [
       "0.6538978486328665"
      ]
     },
     "execution_count": 126,
     "metadata": {},
     "output_type": "execute_result"
    }
   ],
   "source": [
    "rbmodel.score(X,y)"
   ]
  },
  {
   "cell_type": "code",
   "execution_count": 127,
   "id": "fb9a5637",
   "metadata": {},
   "outputs": [
    {
     "data": {
      "text/plain": [
       "array([0.64282081, 0.64431673, 0.64516243, 0.64560354, 0.67058155])"
      ]
     },
     "execution_count": 127,
     "metadata": {},
     "output_type": "execute_result"
    }
   ],
   "source": [
    "cross_val_score(rb,X,y)"
   ]
  },
  {
   "cell_type": "code",
   "execution_count": 128,
   "id": "707d38e4",
   "metadata": {},
   "outputs": [
    {
     "data": {
      "text/plain": [
       "0.649697012"
      ]
     },
     "execution_count": 128,
     "metadata": {},
     "output_type": "execute_result"
    }
   ],
   "source": [
    "np.mean([0.64282081, 0.64431673, 0.64516243, 0.64560354, 0.67058155])"
   ]
  },
  {
   "cell_type": "markdown",
   "id": "49e63983",
   "metadata": {},
   "source": [
    "# Gradient Boosting Regressor"
   ]
  },
  {
   "cell_type": "code",
   "execution_count": 129,
   "id": "f5eace47",
   "metadata": {},
   "outputs": [],
   "source": [
    "from sklearn.ensemble import GradientBoostingRegressor"
   ]
  },
  {
   "cell_type": "code",
   "execution_count": 130,
   "id": "f18c0170",
   "metadata": {},
   "outputs": [],
   "source": [
    "gb=GradientBoostingRegressor(n_estimators=60,max_depth=8)"
   ]
  },
  {
   "cell_type": "code",
   "execution_count": 78,
   "id": "36e422e2",
   "metadata": {},
   "outputs": [],
   "source": [
    "gbmodel=gb.fit(X,y)"
   ]
  },
  {
   "cell_type": "code",
   "execution_count": 79,
   "id": "7772d1e3",
   "metadata": {},
   "outputs": [
    {
     "data": {
      "text/plain": [
       "0.6737549498866411"
      ]
     },
     "execution_count": 79,
     "metadata": {},
     "output_type": "execute_result"
    }
   ],
   "source": [
    "gbmodel.score(X,y)"
   ]
  },
  {
   "cell_type": "code",
   "execution_count": 80,
   "id": "9a6aceca",
   "metadata": {},
   "outputs": [
    {
     "data": {
      "text/plain": [
       "array([0.65846916, 0.66094684, 0.66115437, 0.65953171, 0.68421983])"
      ]
     },
     "execution_count": 80,
     "metadata": {},
     "output_type": "execute_result"
    }
   ],
   "source": [
    "cross_val_score(gb,X,y)"
   ]
  },
  {
   "cell_type": "code",
   "execution_count": 131,
   "id": "53357da7",
   "metadata": {},
   "outputs": [
    {
     "data": {
      "text/plain": [
       "0.664864382"
      ]
     },
     "execution_count": 131,
     "metadata": {},
     "output_type": "execute_result"
    }
   ],
   "source": [
    "np.mean([0.65846916, 0.66094684, 0.66115437, 0.65953171, 0.68421983])"
   ]
  },
  {
   "cell_type": "code",
   "execution_count": 82,
   "id": "d4285bbf",
   "metadata": {},
   "outputs": [],
   "source": [
    "gbpredict=gbmodel.predict(test_clean)"
   ]
  },
  {
   "cell_type": "code",
   "execution_count": 83,
   "id": "1844d29a",
   "metadata": {},
   "outputs": [],
   "source": [
    "pd.DataFrame(gbpredict).to_csv('gb.csv')"
   ]
  }
 ],
 "metadata": {
  "kernelspec": {
   "display_name": "Python 3 (ipykernel)",
   "language": "python",
   "name": "python3"
  },
  "language_info": {
   "codemirror_mode": {
    "name": "ipython",
    "version": 3
   },
   "file_extension": ".py",
   "mimetype": "text/x-python",
   "name": "python",
   "nbconvert_exporter": "python",
   "pygments_lexer": "ipython3",
   "version": "3.9.15"
  }
 },
 "nbformat": 4,
 "nbformat_minor": 5
}
